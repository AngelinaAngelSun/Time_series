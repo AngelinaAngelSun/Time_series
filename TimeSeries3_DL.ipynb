{
 "cells": [
  {
   "cell_type": "markdown",
   "id": "809e93b4-e568-4677-8800-67d438ffb732",
   "metadata": {
    "id": "809e93b4-e568-4677-8800-67d438ffb732"
   },
   "source": [
    "## DL for Time Series"
   ]
  },
  {
   "cell_type": "markdown",
   "id": "795eae3e-a9d7-43ec-9827-dc5d342c6cf0",
   "metadata": {
    "id": "795eae3e-a9d7-43ec-9827-dc5d342c6cf0"
   },
   "source": [
    "Методы, основанные на глубоком обучении, отличаются от классических (ARIMA и тд.). При помощи DL мы стремимся получить глобальную вероятностную модель.\n",
    "\n",
    "- Глобальность / локальность – классические методы при наличии нескольких рядов, как правило, обучаются на каждом по-отдельности. В DL можно действовать глобально, т.е. улавливая взаимосвязи между рядами.\n",
    "\n",
    "- Вероятностный / точечный прогноз – классические методы, как правило, дают точечный прогноз, в то время как методы DL позволяют моделировать распределение вероятности, а именно оптимизировать параметры распредления из заранее заданного семейства, например, нормального или Стьюдента, (гиперпараметр).  \n",
    "  \n",
    "\n",
    "**Transformers for TS**   \n",
    "Временные ряды – это последовательности, поэтому логично, что трансформер с энкодер-декодерной архитектурой является естественным выбором для работы с подобным типом данных.\n",
    "\n",
    "Чтобы обучить модель, нам нужно определиться с длиной контекста – в том числе исходя из соображений затрат ресурсов на вычисления и память, – а затем сэмплировать из ряда окна, состоящие из контекста (окно контекста) и последующих значений (окно предсказаний). Первое передаем в энкодер, второе – в декодер с использованием masked attention (не подглядывя вперед). Как правило, декодирование происходит по алгоритму teacher forcing – после того, как мы сгенерировали значение и посчитали на нем ошибку, сравнив с ground truth, мы обучаем декодер генерировать следующее значение исходя из ground truth значения.\n",
    "\n",
    "Одним из преимуществ архитектуры является то, что мы с легкостью можем обрабатывать пропущенные значения (частая проблема временных рядов) без необходимости их заполнения. Это делается при помощи дополнительной маски, схожей по смыслу с attention_mask в NLP, которая используется для исключения padding токенов из расчета матрицы attention.\n",
    "\n",
    "Из основных недостатков архитектуры – квадратичные требования по ресурсам в классической модели (для решения этой проблемы придуманы различные вариации – Informer, Autoformer, FEDformer, Pyraformer и тд), а также склонность к переобучению на шум из-за большого количества параметров по сравнению с количеством имеющихся в распоряжении данных."
   ]
  },
  {
   "cell_type": "markdown",
   "id": "62cb88e7-f4b3-4ffa-880e-754cf76d55a4",
   "metadata": {
    "id": "62cb88e7-f4b3-4ffa-880e-754cf76d55a4"
   },
   "source": [
    "**Полезные материалы**:    \n",
    "- <a href=\"https://github.com/huggingface/notebooks/blob/main/examples/time_series_datasets.ipynb\">github.com/huggingface</a> - Туториал по Hugging Face datasets для временных рядов\n",
    "- <a href=\"https://ts.gluon.ai/stable/tutorials/forecasting/extended_tutorial.html#What-is-in-a-dataset?\">ts.gluon.ai</a> - Туториал по GluonTS для временных рядов\n",
    "- <a href=\"https://github.com/hse-ds/iad-applied-ds/blob/master/2023/seminars/sem07_ts2/sem07_ts2.ipynb\">github.com/hse-ds</a> - Семинар по работе с временными рядами\n",
    "- <a href=\"https://otexts.com/fpp3/\">otexts.com</a> - Учебник Forecasting: Principles and Practice"
   ]
  },
  {
   "cell_type": "code",
   "execution_count": 38,
   "id": "rJp4dAHZGz-s",
   "metadata": {
    "id": "rJp4dAHZGz-s"
   },
   "outputs": [],
   "source": [
    "# !pip install gluonts\n",
    "# !pip install --upgrade datasets\n",
    "# !pip install lightning\n",
    "# !pip install evaluate\n",
    "\n",
    "# import shutil\n",
    "# import pathlib\n",
    "# cache_path = pathlib.Path.home() / \".cache\" / \"huggingface\" / \"datasets\" # Путь к папке кеша\n",
    "# shutil.rmtree(cache_path)  # Удаляем весь кеш - потеря всех скачанных датасетов\n",
    "# !pip install --upgrade datasets"
   ]
  },
  {
   "cell_type": "code",
   "execution_count": 46,
   "id": "aecf3f97-cc76-44ee-9cdd-d7d36a501e1a",
   "metadata": {
    "id": "aecf3f97-cc76-44ee-9cdd-d7d36a501e1a"
   },
   "outputs": [],
   "source": [
    "from copy import deepcopy\n",
    "import gdown, os, zipfile, random\n",
    "import pandas as pd\n",
    "import numpy as np\n",
    "import seaborn as sns\n",
    "import matplotlib.pyplot as plt\n",
    "import matplotlib.dates as mdates\n",
    "\n",
    "# Декоратор lru_cache из модуля functools используется для сохранение результатов выполнения функций,\n",
    "# запоминает результаты вызова функции с определенными аргументами и возвращает сохраненный результат при повторном вызове\n",
    "# с теми же аргументами, что позволяет ускорить работу, особенно в случае рекурсивных функций или функций, выполняющих ресурсоемкие вычисления\n",
    "from functools import lru_cache\n",
    "from functools import partial\n",
    "\n",
    "from typing import Optional\n",
    "from typing import Iterable\n",
    "\n",
    "from datasets import load_dataset\n",
    "from accelerate import Accelerator\n",
    "from evaluate import load\n",
    "\n",
    "import torch\n",
    "from torch.optim import AdamW\n",
    "from torch.utils.data import DataLoader\n",
    "from transformers import TimeSeriesTransformerConfig, TimeSeriesTransformerForPrediction, PretrainedConfig\n",
    "\n",
    "from gluonts.transform.sampler import InstanceSampler\n",
    "from gluonts.dataset.field_names import FieldName\n",
    "from gluonts.itertools import Cyclic, IterableSlice, PseudoShuffled\n",
    "# from gluonts.torch.util import IterableDataset\n",
    "from gluonts.time_feature import (time_features_from_frequency_str, TimeFeature, get_seasonality, get_lags_for_frequency)\n",
    "from gluonts.transform import (AddAgeFeature, AddObservedValuesIndicator, AddTimeFeatures, AsNumpyArray, Chain, ExpectedNumInstanceSampler,\n",
    "                               InstanceSplitter, RemoveFields, SelectFields, SetField, TestSplitSampler, Transformation, ValidationSplitSampler, \n",
    "                               VstackFeatures, RenameFields)\n",
    "import warnings\n",
    "warnings.filterwarnings(\"ignore\")"
   ]
  },
  {
   "cell_type": "code",
   "execution_count": null,
   "id": "XYKhI0-8S__v",
   "metadata": {
    "id": "XYKhI0-8S__v"
   },
   "outputs": [],
   "source": [
    "# from gluonts.torch.util import IterableDataset\n",
    "# from torch.utils.data.dataset import IterableDataset\n",
    "from torch.utils.data import IterableDataset\n",
    "\n",
    "class IteratorDataset(IterableDataset):  # Обертка для итератора\n",
    "    def __init__(self, iterator):\n",
    "        super().__init__()\n",
    "        self._iterator = iterator\n",
    "\n",
    "    def __iter__(self):\n",
    "        return self._iterator"
   ]
  },
  {
   "cell_type": "code",
   "execution_count": 47,
   "id": "8bfa168e-40e2-4f1e-aad8-1dfd4e5782f9",
   "metadata": {
    "colab": {
     "base_uri": "https://localhost:8080/"
    },
    "id": "8bfa168e-40e2-4f1e-aad8-1dfd4e5782f9",
    "outputId": "c690208f-3462-425d-e8a2-f541de36e97b"
   },
   "outputs": [
    {
     "data": {
      "text/plain": [
       "DatasetDict({\n",
       "    train: Dataset({\n",
       "        features: ['start', 'target', 'feat_static_cat', 'feat_dynamic_real', 'item_id'],\n",
       "        num_rows: 366\n",
       "    })\n",
       "    test: Dataset({\n",
       "        features: ['start', 'target', 'feat_static_cat', 'feat_dynamic_real', 'item_id'],\n",
       "        num_rows: 366\n",
       "    })\n",
       "    validation: Dataset({\n",
       "        features: ['start', 'target', 'feat_static_cat', 'feat_dynamic_real', 'item_id'],\n",
       "        num_rows: 366\n",
       "    })\n",
       "})"
      ]
     },
     "execution_count": 47,
     "metadata": {},
     "output_type": "execute_result"
    }
   ],
   "source": [
    "# Используем датасет tourism_monthly из репозитория Monash Time Series Forecasting. Его можно считать каноническим бенчмарком в области ts\n",
    "# Monash University - крупнейший университет Австралии - занимает сильные позиции в сфере пронозирвания ts\n",
    "# download_mode=\"force_redownload\", cache_dir=None, cache_dir=\"/tmp\", cache_dir=\"./my_cache\"\n",
    "dataset = load_dataset(\"monash_tsf\", \"tourism_monthly\")\n",
    "dataset"
   ]
  },
  {
   "cell_type": "code",
   "execution_count": 48,
   "id": "f052c963-52a5-40db-93f9-8db7fa15d8eb",
   "metadata": {
    "colab": {
     "base_uri": "https://localhost:8080/"
    },
    "id": "f052c963-52a5-40db-93f9-8db7fa15d8eb",
    "outputId": "2c1e598e-e0f6-4909-b8ac-b8328fc72eeb"
   },
   "outputs": [
    {
     "name": "stdout",
     "output_type": "stream",
     "text": [
      "dict_keys(['start', 'target', 'feat_static_cat', 'feat_dynamic_real', 'item_id'])\n",
      "1979-01-01 00:00:00\n",
      "[1149.8699951171875, 1053.8001708984375, 1388.8797607421875, 1783.3702392578125, 1921.025146484375, 2704.94482421875, 4184.41357421875, 4148.35400390625, 2620.72509765625, 1650.300048828125, 1115.9200439453125, 1370.6251220703125, 1096.31494140625, 978.4600219726562, 1294.68505859375, 1480.465087890625, 1748.865234375, 2216.920166015625, 4690.5185546875, 4682.8642578125, 2459.579833984375, 1484.4901123046875, 1028.985107421875, 1109.3648681640625, 960.8751220703125, 896.35009765625, 1118.6551513671875, 1619.9949951171875, 1847.994873046875, 2367.044921875, 4991.16015625, 4772.9443359375, 2894.678466796875, 1860.4801025390625, 1185.150146484375, 1313.659912109375, 1160.9150390625, 1061.5048828125, 1301.77001953125, 1794.3797607421875, 2106.455078125, 2789.034912109375, 4917.8466796875, 4994.4833984375, 3016.754150390625, 1941.505126953125, 1234.135009765625, 1378.72021484375, 1182.9749755859375, 1081.6600341796875, 1424.110107421875, 1774.5350341796875, 2115.420166015625, 2804.840087890625, 4849.498046875, 4937.47509765625, 3074.2236328125, 2063.42529296875, 1297.355224609375, 1350.710205078125, 1224.360107421875, 1165.815185546875, 1409.3299560546875, 2116.5498046875, 2357.135009765625, 2995.0703125, 5295.2119140625, 4957.90478515625, 3321.959228515625, 2221.18017578125, 1345.9000244140625, 1514.01513671875, 1239.5501708984375, 1172.159912109375, 1518.9752197265625, 1996.8751220703125, 2248.68505859375, 3053.440185546875, 5019.45361328125, 5466.7802734375, 3235.167724609375, 2157.97998046875, 1379.7252197265625, 1728.0400390625, 1350.10986328125, 1216.014892578125, 1751.3251953125, 1805.320068359375, 2570.02490234375, 3204.240234375, 5395.72021484375, 6078.82861328125, 3587.098388671875, 2285.195068359375, 1582.18994140625, 1787.4298095703125, 1554.8701171875, 1409.8648681640625, 1612.125, 2286.239990234375, 2913.755126953125, 3645.908447265625, 5956.70849609375, 6326.97509765625, 3914.66015625, 2617.675048828125, 1675.1650390625, 2139.219970703125, 1715.4898681640625, 1663.5799560546875, 2053.699951171875, 2354.929931640625, 3038.591796875, 3470.609375, 6606.18359375, 6587.63671875, 4133.78271484375, 2960.0244140625, 1762.5849609375, 2125.64013671875, 1815.9150390625, 1632.31494140625, 2210.39501953125, 2210.215087890625, 3099.269287109375, 3468.77783203125, 6482.92529296875, 6665.48486328125, 4006.36181640625, 2882.3349609375, 1775.2498779296875, 2171.64990234375, 1796.4749755859375, 1692.349853515625, 1949.78515625, 2680.630126953125, 2645.949951171875, 3414.742919921875, 5772.876953125]\n"
     ]
    }
   ],
   "source": [
    "# В каждом поднаборе 366 рядов, по числу регионов в стране. Каждый ряд, в свою очередь, состоит из нескольких связанных сущностей,\n",
    "# из которых start и target являются самыми важными: start - начальная точка (в формате datetime), target - непосредственные значения ряда\n",
    "train_example = dataset[\"train\"][0]\n",
    "print(train_example.keys())\n",
    "print(train_example[\"start\"])\n",
    "print(train_example[\"target\"])"
   ]
  },
  {
   "cell_type": "code",
   "execution_count": 49,
   "id": "zCkbXB7xmuKx",
   "metadata": {
    "colab": {
     "base_uri": "https://localhost:8080/",
     "height": 336
    },
    "id": "zCkbXB7xmuKx",
    "outputId": "855864f8-14d3-491c-89f8-ebab50393bee"
   },
   "outputs": [
    {
     "data": {
      "application/vnd.google.colaboratory.intrinsic+json": {
       "repr_error": "Out of range float values are not JSON compliant: nan",
       "type": "dataframe"
      },
      "text/html": [
       "\n",
       "  <div id=\"df-788aedae-4ecc-4769-804d-c27e4e8bdd6e\" class=\"colab-df-container\">\n",
       "    <div>\n",
       "<style scoped>\n",
       "    .dataframe tbody tr th:only-of-type {\n",
       "        vertical-align: middle;\n",
       "    }\n",
       "\n",
       "    .dataframe tbody tr th {\n",
       "        vertical-align: top;\n",
       "    }\n",
       "\n",
       "    .dataframe thead th {\n",
       "        text-align: right;\n",
       "    }\n",
       "</style>\n",
       "<table border=\"1\" class=\"dataframe\">\n",
       "  <thead>\n",
       "    <tr style=\"text-align: right;\">\n",
       "      <th></th>\n",
       "      <th>start</th>\n",
       "      <th>target</th>\n",
       "      <th>feat_static_cat</th>\n",
       "      <th>feat_dynamic_real</th>\n",
       "      <th>item_id</th>\n",
       "    </tr>\n",
       "  </thead>\n",
       "  <tbody>\n",
       "    <tr>\n",
       "      <th>0</th>\n",
       "      <td>1979-01-01</td>\n",
       "      <td>[1149.8699951171875, 1053.8001708984375, 1388....</td>\n",
       "      <td>[0]</td>\n",
       "      <td>None</td>\n",
       "      <td>T1</td>\n",
       "    </tr>\n",
       "    <tr>\n",
       "      <th>1</th>\n",
       "      <td>1979-01-01</td>\n",
       "      <td>[65072.37109375, 48612.19921875, 58452.5898437...</td>\n",
       "      <td>[1]</td>\n",
       "      <td>None</td>\n",
       "      <td>T2</td>\n",
       "    </tr>\n",
       "    <tr>\n",
       "      <th>2</th>\n",
       "      <td>1985-01-01</td>\n",
       "      <td>[37047.0, 32836.0, 51094.0, 52629.0, 56884.0, ...</td>\n",
       "      <td>[2]</td>\n",
       "      <td>None</td>\n",
       "      <td>T3</td>\n",
       "    </tr>\n",
       "    <tr>\n",
       "      <th>3</th>\n",
       "      <td>1985-01-01</td>\n",
       "      <td>[7611.0, 6859.0, 9247.0, 10924.0, 9064.0, 7417...</td>\n",
       "      <td>[3]</td>\n",
       "      <td>None</td>\n",
       "      <td>T4</td>\n",
       "    </tr>\n",
       "    <tr>\n",
       "      <th>4</th>\n",
       "      <td>1985-01-01</td>\n",
       "      <td>[27693.0, 15075.0, 22602.0, 23530.0, 26817.0, ...</td>\n",
       "      <td>[4]</td>\n",
       "      <td>None</td>\n",
       "      <td>T5</td>\n",
       "    </tr>\n",
       "  </tbody>\n",
       "</table>\n",
       "</div>\n",
       "    <div class=\"colab-df-buttons\">\n",
       "\n",
       "  <div class=\"colab-df-container\">\n",
       "    <button class=\"colab-df-convert\" onclick=\"convertToInteractive('df-788aedae-4ecc-4769-804d-c27e4e8bdd6e')\"\n",
       "            title=\"Convert this dataframe to an interactive table.\"\n",
       "            style=\"display:none;\">\n",
       "\n",
       "  <svg xmlns=\"http://www.w3.org/2000/svg\" height=\"24px\" viewBox=\"0 -960 960 960\">\n",
       "    <path d=\"M120-120v-720h720v720H120Zm60-500h600v-160H180v160Zm220 220h160v-160H400v160Zm0 220h160v-160H400v160ZM180-400h160v-160H180v160Zm440 0h160v-160H620v160ZM180-180h160v-160H180v160Zm440 0h160v-160H620v160Z\"/>\n",
       "  </svg>\n",
       "    </button>\n",
       "\n",
       "  <style>\n",
       "    .colab-df-container {\n",
       "      display:flex;\n",
       "      gap: 12px;\n",
       "    }\n",
       "\n",
       "    .colab-df-convert {\n",
       "      background-color: #E8F0FE;\n",
       "      border: none;\n",
       "      border-radius: 50%;\n",
       "      cursor: pointer;\n",
       "      display: none;\n",
       "      fill: #1967D2;\n",
       "      height: 32px;\n",
       "      padding: 0 0 0 0;\n",
       "      width: 32px;\n",
       "    }\n",
       "\n",
       "    .colab-df-convert:hover {\n",
       "      background-color: #E2EBFA;\n",
       "      box-shadow: 0px 1px 2px rgba(60, 64, 67, 0.3), 0px 1px 3px 1px rgba(60, 64, 67, 0.15);\n",
       "      fill: #174EA6;\n",
       "    }\n",
       "\n",
       "    .colab-df-buttons div {\n",
       "      margin-bottom: 4px;\n",
       "    }\n",
       "\n",
       "    [theme=dark] .colab-df-convert {\n",
       "      background-color: #3B4455;\n",
       "      fill: #D2E3FC;\n",
       "    }\n",
       "\n",
       "    [theme=dark] .colab-df-convert:hover {\n",
       "      background-color: #434B5C;\n",
       "      box-shadow: 0px 1px 3px 1px rgba(0, 0, 0, 0.15);\n",
       "      filter: drop-shadow(0px 1px 2px rgba(0, 0, 0, 0.3));\n",
       "      fill: #FFFFFF;\n",
       "    }\n",
       "  </style>\n",
       "\n",
       "    <script>\n",
       "      const buttonEl =\n",
       "        document.querySelector('#df-788aedae-4ecc-4769-804d-c27e4e8bdd6e button.colab-df-convert');\n",
       "      buttonEl.style.display =\n",
       "        google.colab.kernel.accessAllowed ? 'block' : 'none';\n",
       "\n",
       "      async function convertToInteractive(key) {\n",
       "        const element = document.querySelector('#df-788aedae-4ecc-4769-804d-c27e4e8bdd6e');\n",
       "        const dataTable =\n",
       "          await google.colab.kernel.invokeFunction('convertToInteractive',\n",
       "                                                    [key], {});\n",
       "        if (!dataTable) return;\n",
       "\n",
       "        const docLinkHtml = 'Like what you see? Visit the ' +\n",
       "          '<a target=\"_blank\" href=https://colab.research.google.com/notebooks/data_table.ipynb>data table notebook</a>'\n",
       "          + ' to learn more about interactive tables.';\n",
       "        element.innerHTML = '';\n",
       "        dataTable['output_type'] = 'display_data';\n",
       "        await google.colab.output.renderOutput(dataTable, element);\n",
       "        const docLink = document.createElement('div');\n",
       "        docLink.innerHTML = docLinkHtml;\n",
       "        element.appendChild(docLink);\n",
       "      }\n",
       "    </script>\n",
       "  </div>\n",
       "\n",
       "\n",
       "    <div id=\"df-363ec205-1465-47ab-b2bf-15c567e5bec9\">\n",
       "      <button class=\"colab-df-quickchart\" onclick=\"quickchart('df-363ec205-1465-47ab-b2bf-15c567e5bec9')\"\n",
       "                title=\"Suggest charts\"\n",
       "                style=\"display:none;\">\n",
       "\n",
       "<svg xmlns=\"http://www.w3.org/2000/svg\" height=\"24px\"viewBox=\"0 0 24 24\"\n",
       "     width=\"24px\">\n",
       "    <g>\n",
       "        <path d=\"M19 3H5c-1.1 0-2 .9-2 2v14c0 1.1.9 2 2 2h14c1.1 0 2-.9 2-2V5c0-1.1-.9-2-2-2zM9 17H7v-7h2v7zm4 0h-2V7h2v10zm4 0h-2v-4h2v4z\"/>\n",
       "    </g>\n",
       "</svg>\n",
       "      </button>\n",
       "\n",
       "<style>\n",
       "  .colab-df-quickchart {\n",
       "      --bg-color: #E8F0FE;\n",
       "      --fill-color: #1967D2;\n",
       "      --hover-bg-color: #E2EBFA;\n",
       "      --hover-fill-color: #174EA6;\n",
       "      --disabled-fill-color: #AAA;\n",
       "      --disabled-bg-color: #DDD;\n",
       "  }\n",
       "\n",
       "  [theme=dark] .colab-df-quickchart {\n",
       "      --bg-color: #3B4455;\n",
       "      --fill-color: #D2E3FC;\n",
       "      --hover-bg-color: #434B5C;\n",
       "      --hover-fill-color: #FFFFFF;\n",
       "      --disabled-bg-color: #3B4455;\n",
       "      --disabled-fill-color: #666;\n",
       "  }\n",
       "\n",
       "  .colab-df-quickchart {\n",
       "    background-color: var(--bg-color);\n",
       "    border: none;\n",
       "    border-radius: 50%;\n",
       "    cursor: pointer;\n",
       "    display: none;\n",
       "    fill: var(--fill-color);\n",
       "    height: 32px;\n",
       "    padding: 0;\n",
       "    width: 32px;\n",
       "  }\n",
       "\n",
       "  .colab-df-quickchart:hover {\n",
       "    background-color: var(--hover-bg-color);\n",
       "    box-shadow: 0 1px 2px rgba(60, 64, 67, 0.3), 0 1px 3px 1px rgba(60, 64, 67, 0.15);\n",
       "    fill: var(--button-hover-fill-color);\n",
       "  }\n",
       "\n",
       "  .colab-df-quickchart-complete:disabled,\n",
       "  .colab-df-quickchart-complete:disabled:hover {\n",
       "    background-color: var(--disabled-bg-color);\n",
       "    fill: var(--disabled-fill-color);\n",
       "    box-shadow: none;\n",
       "  }\n",
       "\n",
       "  .colab-df-spinner {\n",
       "    border: 2px solid var(--fill-color);\n",
       "    border-color: transparent;\n",
       "    border-bottom-color: var(--fill-color);\n",
       "    animation:\n",
       "      spin 1s steps(1) infinite;\n",
       "  }\n",
       "\n",
       "  @keyframes spin {\n",
       "    0% {\n",
       "      border-color: transparent;\n",
       "      border-bottom-color: var(--fill-color);\n",
       "      border-left-color: var(--fill-color);\n",
       "    }\n",
       "    20% {\n",
       "      border-color: transparent;\n",
       "      border-left-color: var(--fill-color);\n",
       "      border-top-color: var(--fill-color);\n",
       "    }\n",
       "    30% {\n",
       "      border-color: transparent;\n",
       "      border-left-color: var(--fill-color);\n",
       "      border-top-color: var(--fill-color);\n",
       "      border-right-color: var(--fill-color);\n",
       "    }\n",
       "    40% {\n",
       "      border-color: transparent;\n",
       "      border-right-color: var(--fill-color);\n",
       "      border-top-color: var(--fill-color);\n",
       "    }\n",
       "    60% {\n",
       "      border-color: transparent;\n",
       "      border-right-color: var(--fill-color);\n",
       "    }\n",
       "    80% {\n",
       "      border-color: transparent;\n",
       "      border-right-color: var(--fill-color);\n",
       "      border-bottom-color: var(--fill-color);\n",
       "    }\n",
       "    90% {\n",
       "      border-color: transparent;\n",
       "      border-bottom-color: var(--fill-color);\n",
       "    }\n",
       "  }\n",
       "</style>\n",
       "\n",
       "      <script>\n",
       "        async function quickchart(key) {\n",
       "          const quickchartButtonEl =\n",
       "            document.querySelector('#' + key + ' button');\n",
       "          quickchartButtonEl.disabled = true;  // To prevent multiple clicks.\n",
       "          quickchartButtonEl.classList.add('colab-df-spinner');\n",
       "          try {\n",
       "            const charts = await google.colab.kernel.invokeFunction(\n",
       "                'suggestCharts', [key], {});\n",
       "          } catch (error) {\n",
       "            console.error('Error during call to suggestCharts:', error);\n",
       "          }\n",
       "          quickchartButtonEl.classList.remove('colab-df-spinner');\n",
       "          quickchartButtonEl.classList.add('colab-df-quickchart-complete');\n",
       "        }\n",
       "        (() => {\n",
       "          let quickchartButtonEl =\n",
       "            document.querySelector('#df-363ec205-1465-47ab-b2bf-15c567e5bec9 button');\n",
       "          quickchartButtonEl.style.display =\n",
       "            google.colab.kernel.accessAllowed ? 'block' : 'none';\n",
       "        })();\n",
       "      </script>\n",
       "    </div>\n",
       "    </div>\n",
       "  </div>\n"
      ],
      "text/plain": [
       "       start                                             target  \\\n",
       "0 1979-01-01  [1149.8699951171875, 1053.8001708984375, 1388....   \n",
       "1 1979-01-01  [65072.37109375, 48612.19921875, 58452.5898437...   \n",
       "2 1985-01-01  [37047.0, 32836.0, 51094.0, 52629.0, 56884.0, ...   \n",
       "3 1985-01-01  [7611.0, 6859.0, 9247.0, 10924.0, 9064.0, 7417...   \n",
       "4 1985-01-01  [27693.0, 15075.0, 22602.0, 23530.0, 26817.0, ...   \n",
       "\n",
       "  feat_static_cat feat_dynamic_real item_id  \n",
       "0             [0]              None      T1  \n",
       "1             [1]              None      T2  \n",
       "2             [2]              None      T3  \n",
       "3             [3]              None      T4  \n",
       "4             [4]              None      T5  "
      ]
     },
     "metadata": {},
     "output_type": "display_data"
    },
    {
     "data": {
      "text/html": [
       "<div>\n",
       "<style scoped>\n",
       "    .dataframe tbody tr th:only-of-type {\n",
       "        vertical-align: middle;\n",
       "    }\n",
       "\n",
       "    .dataframe tbody tr th {\n",
       "        vertical-align: top;\n",
       "    }\n",
       "\n",
       "    .dataframe thead th {\n",
       "        text-align: right;\n",
       "    }\n",
       "</style>\n",
       "<table border=\"1\" class=\"dataframe\">\n",
       "  <thead>\n",
       "    <tr style=\"text-align: right;\">\n",
       "      <th></th>\n",
       "      <th>start</th>\n",
       "    </tr>\n",
       "  </thead>\n",
       "  <tbody>\n",
       "    <tr>\n",
       "      <th>min</th>\n",
       "      <td>1979-01-01</td>\n",
       "    </tr>\n",
       "    <tr>\n",
       "      <th>max</th>\n",
       "      <td>2000-01-01</td>\n",
       "    </tr>\n",
       "  </tbody>\n",
       "</table>\n",
       "</div><br><label><b>dtype:</b> datetime64[ns]</label>"
      ],
      "text/plain": [
       "min   1979-01-01\n",
       "max   2000-01-01\n",
       "Name: start, dtype: datetime64[ns]"
      ]
     },
     "execution_count": 49,
     "metadata": {},
     "output_type": "execute_result"
    }
   ],
   "source": [
    "display(pd.DataFrame(dataset[\"train\"]).head())\n",
    "pd.DataFrame(dataset[\"train\"])['start'].agg(['min', 'max'])"
   ]
  },
  {
   "cell_type": "code",
   "execution_count": 50,
   "id": "qqE6oB01oADI",
   "metadata": {
    "colab": {
     "base_uri": "https://localhost:8080/"
    },
    "id": "qqE6oB01oADI",
    "outputId": "70fa5f15-b33e-4e24-c62c-aba3d0514b9a"
   },
   "outputs": [
    {
     "data": {
      "text/plain": [
       "dict_keys(['start', 'target', 'feat_static_cat', 'feat_dynamic_real', 'item_id'])"
      ]
     },
     "execution_count": 50,
     "metadata": {},
     "output_type": "execute_result"
    }
   ],
   "source": [
    "# Валидационная выборка состоит из тех же данных, что и тренировочная, но с добавлением (длиннее на) prediction_length. Тестовая, в свою очередь, на prediction_length длиннее валидационной\n",
    "validation_example = dataset[\"validation\"][0]\n",
    "validation_example.keys()"
   ]
  },
  {
   "cell_type": "code",
   "execution_count": 51,
   "id": "9Ia0-T7EoAIY",
   "metadata": {
    "colab": {
     "base_uri": "https://localhost:8080/"
    },
    "id": "9Ia0-T7EoAIY",
    "outputId": "e38d8ca5-308d-4e1a-dc66-6207db080b16"
   },
   "outputs": [
    {
     "name": "stdout",
     "output_type": "stream",
     "text": [
      "1979-01-01 00:00:00\n",
      "[1149.8699951171875, 1053.8001708984375, 1388.8797607421875, 1783.3702392578125, 1921.025146484375, 2704.94482421875, 4184.41357421875, 4148.35400390625, 2620.72509765625, 1650.300048828125, 1115.9200439453125, 1370.6251220703125, 1096.31494140625, 978.4600219726562, 1294.68505859375, 1480.465087890625, 1748.865234375, 2216.920166015625, 4690.5185546875, 4682.8642578125, 2459.579833984375, 1484.4901123046875, 1028.985107421875, 1109.3648681640625, 960.8751220703125, 896.35009765625, 1118.6551513671875, 1619.9949951171875, 1847.994873046875, 2367.044921875, 4991.16015625, 4772.9443359375, 2894.678466796875, 1860.4801025390625, 1185.150146484375, 1313.659912109375, 1160.9150390625, 1061.5048828125, 1301.77001953125, 1794.3797607421875, 2106.455078125, 2789.034912109375, 4917.8466796875, 4994.4833984375, 3016.754150390625, 1941.505126953125, 1234.135009765625, 1378.72021484375, 1182.9749755859375, 1081.6600341796875, 1424.110107421875, 1774.5350341796875, 2115.420166015625, 2804.840087890625, 4849.498046875, 4937.47509765625, 3074.2236328125, 2063.42529296875, 1297.355224609375, 1350.710205078125, 1224.360107421875, 1165.815185546875, 1409.3299560546875, 2116.5498046875, 2357.135009765625, 2995.0703125, 5295.2119140625, 4957.90478515625, 3321.959228515625, 2221.18017578125, 1345.9000244140625, 1514.01513671875, 1239.5501708984375, 1172.159912109375, 1518.9752197265625, 1996.8751220703125, 2248.68505859375, 3053.440185546875, 5019.45361328125, 5466.7802734375, 3235.167724609375, 2157.97998046875, 1379.7252197265625, 1728.0400390625, 1350.10986328125, 1216.014892578125, 1751.3251953125, 1805.320068359375, 2570.02490234375, 3204.240234375, 5395.72021484375, 6078.82861328125, 3587.098388671875, 2285.195068359375, 1582.18994140625, 1787.4298095703125, 1554.8701171875, 1409.8648681640625, 1612.125, 2286.239990234375, 2913.755126953125, 3645.908447265625, 5956.70849609375, 6326.97509765625, 3914.66015625, 2617.675048828125, 1675.1650390625, 2139.219970703125, 1715.4898681640625, 1663.5799560546875, 2053.699951171875, 2354.929931640625, 3038.591796875, 3470.609375, 6606.18359375, 6587.63671875, 4133.78271484375, 2960.0244140625, 1762.5849609375, 2125.64013671875, 1815.9150390625, 1632.31494140625, 2210.39501953125, 2210.215087890625, 3099.269287109375, 3468.77783203125, 6482.92529296875, 6665.48486328125, 4006.36181640625, 2882.3349609375, 1775.2498779296875, 2171.64990234375, 1796.4749755859375, 1692.349853515625, 1949.78515625, 2680.630126953125, 2645.949951171875, 3414.742919921875, 5772.876953125, 6053.7041015625, 3878.12841796875, 2806.514892578125, 1735.5382080078125, 2128.919921875, 1608.01416015625, 1441.330078125, 2068.235107421875, 2207.610107421875, 2918.409912109375, 3400.81787109375, 6048.7421875, 6483.14013671875, 4063.502685546875, 2900.22998046875, 1907.094970703125, 2338.510009765625, 1787.1650390625, 1699.6451416015625, 1979.105224609375, 2824.260009765625, 3076.5048828125, 3402.5849609375, 5985.830078125]\n",
      "139\n",
      "163\n"
     ]
    }
   ],
   "source": [
    "# начальные значения валидационной идентичны начальным значениям обучающей\n",
    "print(validation_example[\"start\"])\n",
    "print(validation_example[\"target\"])\n",
    "\n",
    "print(len(train_example[\"target\"]))\n",
    "print(len(validation_example[\"target\"]))"
   ]
  },
  {
   "cell_type": "code",
   "execution_count": 52,
   "id": "d1760d66-5d71-482e-ab83-5b70361c742f",
   "metadata": {
    "id": "d1760d66-5d71-482e-ab83-5b70361c742f"
   },
   "outputs": [],
   "source": [
    "# Проверим, что объект из валидационного датасета действительно на prediction_length=24 длиннее, чем объект из обучающего\n",
    "freq = \"1M\"\n",
    "prediction_length = 24\n",
    "assert len(train_example[\"target\"]) + prediction_length == len(validation_example[\"target\"])"
   ]
  },
  {
   "cell_type": "code",
   "execution_count": 53,
   "id": "65db62f4-778b-45a8-90fe-dbc70cbbe55d",
   "metadata": {
    "colab": {
     "base_uri": "https://localhost:8080/",
     "height": 291
    },
    "id": "65db62f4-778b-45a8-90fe-dbc70cbbe55d",
    "outputId": "94f153e5-351d-4d05-aa05-31f8db66f977"
   },
   "outputs": [
    {
     "data": {
      "image/png": "[encoded data removed]",
      "text/plain": [
       "<Figure size 600x300 with 1 Axes>"
      ]
     },
     "metadata": {},
     "output_type": "display_data"
    }
   ],
   "source": [
    "figure, axes = plt.subplots(figsize = (6,3))\n",
    "axes.plot(train_example[\"target\"], color=\"blue\")\n",
    "axes.plot(validation_example[\"target\"], color=\"red\", alpha=0.5)\n",
    "\n",
    "plt.show()"
   ]
  },
  {
   "cell_type": "code",
   "execution_count": 54,
   "id": "d83e338e-0711-444e-a5bb-064991df023e",
   "metadata": {
    "id": "d83e338e-0711-444e-a5bb-064991df023e"
   },
   "outputs": [],
   "source": [
    "# Выделим из данных отдельно трейн и тест\n",
    "train_dataset = dataset[\"train\"]\n",
    "test_dataset = dataset[\"test\"]"
   ]
  },
  {
   "cell_type": "code",
   "execution_count": 55,
   "id": "toxno3bWqD9h",
   "metadata": {
    "colab": {
     "base_uri": "https://localhost:8080/"
    },
    "id": "toxno3bWqD9h",
    "outputId": "412b14b9-c78e-4f55-ef67-84db12ab0b8e"
   },
   "outputs": [
    {
     "data": {
      "text/plain": [
       "Dataset({\n",
       "    features: ['start', 'target', 'feat_static_cat', 'feat_dynamic_real', 'item_id'],\n",
       "    num_rows: 366\n",
       "})"
      ]
     },
     "execution_count": 55,
     "metadata": {},
     "output_type": "execute_result"
    }
   ],
   "source": [
    "train_dataset"
   ]
  },
  {
   "cell_type": "code",
   "execution_count": 56,
   "id": "4d796287-5688-49bf-8367-6bbef503fed7",
   "metadata": {
    "id": "4d796287-5688-49bf-8367-6bbef503fed7"
   },
   "outputs": [],
   "source": [
    "# Сконвертируем признак start в объект типа pd.Period (в качестве аргумента дополнительно передадим freq)\n",
    "@lru_cache(10_000)\n",
    "def convert_to_pandas_period(date, freq):\n",
    "    return pd.Period(date, freq)\n",
    "\n",
    "def transform_start_field(batch, freq):\n",
    "    batch[\"start\"] = [convert_to_pandas_period(date, freq) for date in batch[\"start\"]]\n",
    "    return batch"
   ]
  },
  {
   "cell_type": "code",
   "execution_count": 57,
   "id": "279bb804-b9d6-42ba-89c5-1cd7c5be9509",
   "metadata": {
    "id": "279bb804-b9d6-42ba-89c5-1cd7c5be9509"
   },
   "outputs": [],
   "source": [
    "# При помощи datasets' set_transform применим преобразование к трейну и тесту\n",
    "train_dataset.set_transform(partial(transform_start_field, freq=freq))\n",
    "test_dataset.set_transform(partial(transform_start_field, freq=freq))"
   ]
  },
  {
   "cell_type": "markdown",
   "id": "16cd0e99-64a1-48e1-822d-ade8853f119e",
   "metadata": {
    "id": "16cd0e99-64a1-48e1-822d-ade8853f119e"
   },
   "source": [
    "**Задание модели**   \n",
    "Обучение будет проводиться с нуля, поэтому вместо from_pretrained инициализируем веса случайно с задействованием объекта config.       \n",
    "\n",
    "\n",
    "\n",
    "В него необходимо передать следующие аргументы:   \n",
    "\n",
    "- prediction_length (24 месяца): горизонт предсказания декодера;\n",
    "- context_length: глубина ряда на вход энкодера; по умолчанию равен prediction_length, если не указано иначе;\n",
    "- lags – лаги ряда;   \n",
    "- количество т.н. time, или temporal features (служат своего рода positional encoding'ами): в нашем случае 2, так как мы добавляем MonthOfYear и Age – число, которое будет указывать модели на абсолютную позицию значения во временном ряде, сродни счетчику, сквозная нумерация;   \n",
    "- количество статических категориальных признаков (не меняющихся с течением времени): в нашем случае всего 1, так как мы используем единственный признак такого типа \"time series ID\";   \n",
    "- cardinality: список, состоящий из количеств возможных значений каждого из статических категориальных признаков; в нашем случае это список из одного элемента [366], так как в нашем распоряжении 366 различных рядов – по числу регионов страны;   \n",
    "- размерность эмбеддинга: список, состоящий из размерностей эмбеддингов для каждого статического категориального признака; в нашем случае, к примеру, [2] будет означать, что каждый ряд (регион) будет кодироваться вектором размерности 2    \n",
    "\n",
    "\n",
    "\n",
    "Можно использовать стандартные лаги, которые GluonTS автоматически рассчитывает для каждой частотности данных (в нашем случае \"monthly\"):"
   ]
  },
  {
   "cell_type": "code",
   "execution_count": 58,
   "id": "77d562ae-8057-4cf5-bc4c-b7ef09cd3911",
   "metadata": {
    "colab": {
     "base_uri": "https://localhost:8080/"
    },
    "id": "77d562ae-8057-4cf5-bc4c-b7ef09cd3911",
    "outputId": "28a0fa9f-5223-4cf5-9ca6-37442538823f"
   },
   "outputs": [
    {
     "name": "stdout",
     "output_type": "stream",
     "text": [
      "[1, 2, 3, 4, 5, 6, 7, 11, 12, 13, 23, 24, 25, 35, 36, 37]\n"
     ]
    }
   ],
   "source": [
    "lags_sequence = get_lags_for_frequency(freq)\n",
    "print(lags_sequence)"
   ]
  },
  {
   "cell_type": "code",
   "execution_count": 59,
   "id": "07701c20-007d-4069-b51f-0e122f2bdff7",
   "metadata": {
    "colab": {
     "base_uri": "https://localhost:8080/"
    },
    "id": "07701c20-007d-4069-b51f-0e122f2bdff7",
    "outputId": "56451126-05e5-4cbc-c18f-e43ff8f4088f"
   },
   "outputs": [
    {
     "name": "stdout",
     "output_type": "stream",
     "text": [
      "[<function month_of_year at 0x7d6e4aed5ee0>]\n"
     ]
    }
   ],
   "source": [
    "# А также time features по умолчанию:\n",
    "time_features = time_features_from_frequency_str(freq)\n",
    "print(time_features)"
   ]
  },
  {
   "cell_type": "markdown",
   "id": "falJ0smnubjm",
   "metadata": {
    "id": "falJ0smnubjm"
   },
   "source": [
    "Получили всего один time feauture признак, а именно \"month of year\". (1- \"январь\", 2- \"февраль\" и тд.). \"age\" будет добавлен позже."
   ]
  },
  {
   "cell_type": "code",
   "execution_count": 60,
   "id": "583d1ee5-6cea-4123-b88b-7b916ead1ab9",
   "metadata": {
    "id": "583d1ee5-6cea-4123-b88b-7b916ead1ab9"
   },
   "outputs": [],
   "source": [
    "# Инициализация модели\n",
    "config = TimeSeriesTransformerConfig(prediction_length=prediction_length,        # горизонт предсказания декодера\n",
    "                                      context_length=prediction_length * 2,      # глубина ряда на вход энкодера; по умолчанию равен prediction_length, если не указано иначе\n",
    "                                      lags_sequence=lags_sequence,               # лаги ряда\n",
    "                                      num_time_features=len(time_features) + 1,  # MonthOfYear и Age (число, которое будет указывать модели на абсолютную позицию значения во временном ряде, счетчик)\n",
    "                                      num_static_categorical_features=1,         # количество статических категориальных признаков (не меняющихся с течением времени): в нашем случае всего 1 -timeSeriesID\n",
    "                                      cardinality=[len(train_dataset)],          # список, состоящий из количеств возможных значений каждого из статических категориальных признаков\n",
    "                                      embedding_dimension=[2],                   # размерность эмбеддинга: список, состоящий из размерностей эмбеддингов для каждого статического категориального признака\n",
    "                                     # distribution_output=StudentTOutput()  - по умолчанию\n",
    "                                     # параметры непосредственно трансформера:\n",
    "                                      encoder_layers=4, decoder_layers=4, d_model=32)\n",
    "model = TimeSeriesTransformerForPrediction(config)"
   ]
  },
  {
   "cell_type": "markdown",
   "id": "wvlJjUtswnrN",
   "metadata": {
    "id": "wvlJjUtswnrN"
   },
   "source": [
    "Модель TimeSeriesTransformerModel - базовая трансформерная модель с архитектурой \"энкодер-декодер\", которая сама по себе не включает слой для генерации вероятностного распределения. Она реализует только предсказание временного ряда без конкретной оценки риска или неопределенности. В то время как TimeSeriesTransformerForPrediction - это расширенная версия, которая, кроме основной архитектуры, включает \"distribution head\" — слой на выходе, отвечающий за моделирование распределения предсказаний. Это позволяет моделировать вероятностные характеристики предсказаний, например, доверительные интервалы. По умолчанию используется распределение Стьюдента (гиперпараметр, можно изменить)"
   ]
  },
  {
   "cell_type": "code",
   "execution_count": 61,
   "id": "823632d9-c311-4be7-826c-88488f6e4f9e",
   "metadata": {
    "colab": {
     "base_uri": "https://localhost:8080/",
     "height": 36
    },
    "id": "823632d9-c311-4be7-826c-88488f6e4f9e",
    "outputId": "7accb8bd-7d26-48ca-db6c-9f001a4180b4"
   },
   "outputs": [
    {
     "data": {
      "application/vnd.google.colaboratory.intrinsic+json": {
       "type": "string"
      },
      "text/plain": [
       "'student_t'"
      ]
     },
     "execution_count": 61,
     "metadata": {},
     "output_type": "execute_result"
    }
   ],
   "source": [
    "# Тип распределения, которое будет использоваться при моделировании выходных данных\n",
    "# По умолчанию — распределение Стьюдента\n",
    "model.config.distribution_output"
   ]
  },
  {
   "cell_type": "markdown",
   "id": "Ixo1tPPIyyvN",
   "metadata": {
    "id": "Ixo1tPPIyyvN"
   },
   "source": [
    "При использовании трансформеров для задач NLP выход как правило представляет из себя дискретное распределение над алфавитом, и реализуется посредством nn.Linear.   \n",
    "\n",
    "В нашем случае модель выучивает распределение, из которого можно впоследствии сэмплировать, и не выдает напрямую значения как таковые."
   ]
  },
  {
   "cell_type": "markdown",
   "id": "f4d281e7-a78e-4595-b5e7-8d113fe51012",
   "metadata": {
    "id": "f4d281e7-a78e-4595-b5e7-8d113fe51012"
   },
   "source": [
    "**Преобразования данных и генерация признаков**   \n",
    "\n",
    "Используем GluonTS: определим объект Chain, в который поместим преобразования по аналогии с тем, как это происходит в torchvision.transforms.Compose для изображений"
   ]
  },
  {
   "cell_type": "code",
   "execution_count": 62,
   "id": "6LbYh3UM9X8S",
   "metadata": {
    "colab": {
     "base_uri": "https://localhost:8080/",
     "height": 36
    },
    "id": "6LbYh3UM9X8S",
    "outputId": "8d8bab86-9075-4dd5-e8a7-bc7e0bc8f56e"
   },
   "outputs": [
    {
     "data": {
      "application/vnd.google.colaboratory.intrinsic+json": {
       "type": "string"
      },
      "text/plain": [
       "'feat_static_cat'"
      ]
     },
     "execution_count": 62,
     "metadata": {},
     "output_type": "execute_result"
    }
   ],
   "source": [
    "FieldName.FEAT_STATIC_CAT"
   ]
  },
  {
   "cell_type": "code",
   "execution_count": 63,
   "id": "b25706aa-5669-4dc5-b7cd-481d404144b1",
   "metadata": {
    "id": "b25706aa-5669-4dc5-b7cd-481d404144b1"
   },
   "outputs": [],
   "source": [
    "def create_transformation(freq: str, config: PretrainedConfig) -> Transformation:\n",
    "    # формируем список полей для удаления\n",
    "    remove_field_names = []\n",
    "    if config.num_static_real_features == 0:\n",
    "        remove_field_names.append(FieldName.FEAT_STATIC_REAL)\n",
    "    if config.num_dynamic_real_features == 0:\n",
    "        remove_field_names.append(FieldName.FEAT_DYNAMIC_REAL)\n",
    "    if config.num_static_categorical_features == 0:\n",
    "        remove_field_names.append(FieldName.FEAT_STATIC_CAT)\n",
    "\n",
    "    # как torchvision.transforms.Compose\n",
    "    return Chain(\n",
    "        # шаг 1: удаляем поля, занесенные в список для удаления\n",
    "        [RemoveFields(field_names=remove_field_names)]\n",
    "        # шаг 2: переводим данные в numpy формат\n",
    "        + (\n",
    "            [\n",
    "                AsNumpyArray(\n",
    "                    field=FieldName.FEAT_STATIC_CAT,\n",
    "                    expected_ndim=1,\n",
    "                    dtype=int,\n",
    "                )\n",
    "            ]\n",
    "            if config.num_static_categorical_features > 0\n",
    "            else []\n",
    "        )\n",
    "        + (\n",
    "            [\n",
    "                AsNumpyArray(\n",
    "                    field=FieldName.FEAT_STATIC_REAL,\n",
    "                    expected_ndim=1,\n",
    "                )\n",
    "            ]\n",
    "            if config.num_static_real_features > 0\n",
    "            else []\n",
    "        )\n",
    "        + [\n",
    "            AsNumpyArray(\n",
    "                field=FieldName.TARGET,\n",
    "                # предусмотрим дополнительную размерность на случай, если работаем с многомерными рядами:\n",
    "                expected_ndim=1 if config.input_size == 1 else 2,\n",
    "            ),\n",
    "            # шаг 3: заполняем NaN в таргете нулями и вазвращаем маску observed_values\n",
    "            # FALSE для пропущенных значений, TRUE иначе\n",
    "            # маска учитывется декодером (значение функции потерь по unobserved игнорируется)\n",
    "            AddObservedValuesIndicator(\n",
    "                target_field=FieldName.TARGET,\n",
    "                output_field=FieldName.OBSERVED_VALUES,\n",
    "            ),\n",
    "            # шаг 4: добавляем temporal features на основе частотности данных\n",
    "            # месяц года (freq=\"M\"). Такие признаки служат своего рода positional encoding'ами\n",
    "            AddTimeFeatures(\n",
    "                start_field=FieldName.START,\n",
    "                target_field=FieldName.TARGET,\n",
    "                output_field=FieldName.FEAT_TIME,\n",
    "                time_features=time_features_from_frequency_str(freq),\n",
    "                pred_length=config.prediction_length,\n",
    "            ),\n",
    "            # шаг 5: добавляем еще temporal feature - число, которое будет указывать модели на абсолютную позицию значения во временном ряде\n",
    "            # своего рода счетчик (сквозная нумерация)\n",
    "            AddAgeFeature(\n",
    "                target_field=FieldName.TARGET,\n",
    "                output_field=FieldName.FEAT_AGE,\n",
    "                pred_length=config.prediction_length,\n",
    "                log_scale=True,\n",
    "            ),\n",
    "            # шаг 6: стэкаем temporal features по вертикали на ключ FEAT_TIME\n",
    "            VstackFeatures(\n",
    "                output_field=FieldName.FEAT_TIME,\n",
    "                input_fields=[FieldName.FEAT_TIME, FieldName.FEAT_AGE]\n",
    "                + (\n",
    "                    [FieldName.FEAT_DYNAMIC_REAL]\n",
    "                    if config.num_dynamic_real_features > 0\n",
    "                    else []\n",
    "                ),\n",
    "            ),\n",
    "            # step 7: переименовываем поля для соответствия HuggingFace обозначениям\n",
    "            RenameFields(\n",
    "                mapping={\n",
    "                    FieldName.FEAT_STATIC_CAT: \"static_categorical_features\",\n",
    "                    FieldName.FEAT_STATIC_REAL: \"static_real_features\",\n",
    "                    FieldName.FEAT_TIME: \"time_features\",\n",
    "                    FieldName.TARGET: \"values\",\n",
    "                    FieldName.OBSERVED_VALUES: \"observed_mask\",\n",
    "                }\n",
    "            ),\n",
    "        ]\n",
    "    )"
   ]
  },
  {
   "cell_type": "markdown",
   "id": "a864e4ad-c076-4e2c-bc4a-e5eeccea123f",
   "metadata": {
    "id": "a864e4ad-c076-4e2c-bc4a-e5eeccea123f"
   },
   "source": [
    "**Даталоадеры**   \n",
    "Необходимо создать промежуточный InstanceSplitter. Он необходим для сэмплирования \"окон\" из датасета (длины context_length и длины следующего за ним prediction_length), а также добавления в них соответствующих меток past_ и future_. Таким образом values распадутся на past_values и следующие за ними future_values, и будут служить входами для энкодера и декодера соответственно."
   ]
  },
  {
   "cell_type": "code",
   "execution_count": 64,
   "id": "6a868d6d-92b2-406e-a047-9e3720e3699c",
   "metadata": {
    "id": "6a868d6d-92b2-406e-a047-9e3720e3699c"
   },
   "outputs": [],
   "source": [
    "# InstanceSplitter"
   ]
  },
  {
   "cell_type": "code",
   "execution_count": 65,
   "id": "af79eb0e-d022-48fa-9cba-3ebb7781e082",
   "metadata": {
    "id": "af79eb0e-d022-48fa-9cba-3ebb7781e082"
   },
   "outputs": [],
   "source": [
    "def create_instance_splitter(\n",
    "    config: PretrainedConfig,\n",
    "    mode: str,\n",
    "    train_sampler: Optional[InstanceSampler] = None,\n",
    "    validation_sampler: Optional[InstanceSampler] = None,\n",
    ") -> Transformation:\n",
    "    assert mode in [\"train\", \"validation\", \"test\"]\n",
    "\n",
    "    instance_sampler = {\n",
    "        \"train\": train_sampler\n",
    "        or ExpectedNumInstanceSampler(\n",
    "            num_instances=1.0, min_future=config.prediction_length\n",
    "        ),\n",
    "        \"validation\": validation_sampler\n",
    "        or ValidationSplitSampler(min_future=config.prediction_length),\n",
    "        \"test\": TestSplitSampler(),\n",
    "    }[mode]\n",
    "\n",
    "    return InstanceSplitter(target_field=\"values\",\n",
    "                            is_pad_field=FieldName.IS_PAD,\n",
    "                            start_field=FieldName.START,\n",
    "                            forecast_start_field=FieldName.FORECAST_START,\n",
    "                            instance_sampler=instance_sampler,\n",
    "                            past_length=config.context_length + max(config.lags_sequence),\n",
    "                            future_length=config.prediction_length,\n",
    "                            time_series_fields=[\"time_features\", \"observed_mask\"])"
   ]
  },
  {
   "cell_type": "code",
   "execution_count": null,
   "id": "IIHI9rdNSwzo",
   "metadata": {
    "id": "IIHI9rdNSwzo"
   },
   "outputs": [],
   "source": [
    "# from gluonts.torch.util import IterableDataset\n",
    "# from torch.utils.data.dataset import IterableDataset\n",
    "from torch.utils.data import IterableDataset\n",
    "\n",
    "# Обертка для итератора/генератора\n",
    "class IteratorDataset(IterableDataset):\n",
    "    def __init__(self, iterator):\n",
    "        super().__init__()\n",
    "        self._iterator = iterator\n",
    "\n",
    "    def __iter__(self):\n",
    "        return self._iterator"
   ]
  },
  {
   "cell_type": "markdown",
   "id": "75c0d8e7-db49-4f04-ae8c-cddc0902eca7",
   "metadata": {
    "id": "75c0d8e7-db49-4f04-ae8c-cddc0902eca7"
   },
   "source": [
    "**Инициализация даталоадеров**      \n",
    "Создадим даталоадеры и получим батчи (input, output) – т.е. past_values, future_values"
   ]
  },
  {
   "cell_type": "code",
   "execution_count": 66,
   "id": "55a5ce90-68a4-47ee-958e-18a2340f37e0",
   "metadata": {
    "id": "55a5ce90-68a4-47ee-958e-18a2340f37e0"
   },
   "outputs": [],
   "source": [
    "def create_train_dataloader(\n",
    "    config: PretrainedConfig,\n",
    "    freq,\n",
    "    data,\n",
    "    batch_size: int,\n",
    "    num_batches_per_epoch: int,\n",
    "    shuffle_buffer_length: Optional[int] = None,\n",
    "    **kwargs,\n",
    ") -> Iterable:\n",
    "    PREDICTION_INPUT_NAMES = [\n",
    "        \"past_time_features\",\n",
    "        \"past_values\",\n",
    "        \"past_observed_mask\",\n",
    "        \"future_time_features\",\n",
    "    ]\n",
    "    if config.num_static_categorical_features > 0:\n",
    "        PREDICTION_INPUT_NAMES.append(\"static_categorical_features\")\n",
    "\n",
    "    if config.num_static_real_features > 0:\n",
    "        PREDICTION_INPUT_NAMES.append(\"static_real_features\")\n",
    "\n",
    "    TRAINING_INPUT_NAMES = PREDICTION_INPUT_NAMES + [\n",
    "        \"future_values\",\n",
    "        \"future_observed_mask\",\n",
    "    ]\n",
    "\n",
    "    transformation = create_transformation(freq, config)\n",
    "    transformed_data = transformation.apply(data, is_train=True)\n",
    "\n",
    "    # инициализируем Instance для трейна\n",
    "    instance_splitter = create_instance_splitter(config, \"train\") + SelectFields(TRAINING_INPUT_NAMES)\n",
    "\n",
    "    # будет проводиться случайное сэмплирование подспоследовательностей длины\n",
    "    # длина контекста + максимальное значение лага + горизонт предсказания\n",
    "    # (из всех 366 преобразованных индивидуальных рядов)\n",
    "    # и возвращает итератор.\n",
    "    # максимальное значение лага фигурирует тут постольку, поскольку для лагов нужна доп. глубина\n",
    "    training_instances = instance_splitter.apply(\n",
    "        Cyclic(transformed_data)\n",
    "        if shuffle_buffer_length is None\n",
    "        else PseudoShuffled(\n",
    "            Cyclic(transformed_data),\n",
    "            shuffle_buffer_length=shuffle_buffer_length,\n",
    "        )\n",
    "    )\n",
    "    dataset = IteratorDataset(iter(training_instances))\n",
    "    # имея итератор для трейн датасета, мы получаем Dataloader\n",
    "    # который будет сэмплировать случайные окна в количестве batch_size\n",
    "    # и, собственно, содержать тензоры, готорые для подачи в модель\n",
    "    return IterableSlice(\n",
    "        iter(\n",
    "            DataLoader(\n",
    "                dataset,\n",
    "                batch_size=batch_size,\n",
    "                **kwargs,\n",
    "            )\n",
    "        ),\n",
    "        num_batches_per_epoch,\n",
    "    )"
   ]
  },
  {
   "cell_type": "code",
   "execution_count": 67,
   "id": "374006aa-9cf5-4107-b62d-25d08271cf09",
   "metadata": {
    "id": "374006aa-9cf5-4107-b62d-25d08271cf09"
   },
   "outputs": [],
   "source": [
    "def create_test_dataloader(\n",
    "    config: PretrainedConfig,\n",
    "    freq,\n",
    "    data,\n",
    "    batch_size: int,\n",
    "    **kwargs,\n",
    "):\n",
    "    PREDICTION_INPUT_NAMES = [\n",
    "        \"past_time_features\",\n",
    "        \"past_values\",\n",
    "        \"past_observed_mask\",\n",
    "        \"future_time_features\",\n",
    "    ]\n",
    "    if config.num_static_categorical_features > 0:\n",
    "        PREDICTION_INPUT_NAMES.append(\"static_categorical_features\")\n",
    "\n",
    "    if config.num_static_real_features > 0:\n",
    "        PREDICTION_INPUT_NAMES.append(\"static_real_features\")\n",
    "\n",
    "    transformation = create_transformation(freq, config)\n",
    "    transformed_data = transformation.apply(data, is_train=False)\n",
    "\n",
    "    # создадим Instance для теста, который будет брать сэмплы из последних\n",
    "    # в каждом ряде окон контекста с тем, чтобы передавать их исключительно в энкодер\n",
    "    instance_sampler = create_instance_splitter(config, \"test\") + SelectFields(PREDICTION_INPUT_NAMES)\n",
    "\n",
    "    # применяем преобразования на тесте\n",
    "    testing_instances = instance_sampler.apply(transformed_data, is_train=False)\n",
    "    # Оборачиваем в наш класс-обертку\n",
    "    dataset = IteratorDataset(iter(testing_instances))\n",
    "\n",
    "    # возвращаем даталоадер\n",
    "    return DataLoader(dataset, batch_size=batch_size, **kwargs)"
   ]
  },
  {
   "cell_type": "code",
   "execution_count": 68,
   "id": "oNKTcZGnChot",
   "metadata": {
    "id": "oNKTcZGnChot"
   },
   "outputs": [],
   "source": [
    "train_dataloader = create_train_dataloader(config=config,\n",
    "                                            freq=freq,\n",
    "                                            data=train_dataset,\n",
    "                                            batch_size=256,\n",
    "                                            num_batches_per_epoch=100)\n",
    "test_dataloader = create_test_dataloader(config=config,\n",
    "                                          freq=freq,\n",
    "                                          data=test_dataset,\n",
    "                                          batch_size=64)"
   ]
  },
  {
   "cell_type": "code",
   "execution_count": 69,
   "id": "RreQCZsMJ4fk",
   "metadata": {
    "colab": {
     "base_uri": "https://localhost:8080/"
    },
    "id": "RreQCZsMJ4fk",
    "outputId": "723ab312-7d14-449c-c8b2-5a9cc02c7342"
   },
   "outputs": [
    {
     "data": {
      "text/plain": [
       "<gluonts.itertools.IterableSlice at 0x7d6d71f3a9d0>"
      ]
     },
     "execution_count": 69,
     "metadata": {},
     "output_type": "execute_result"
    }
   ],
   "source": [
    "train_dataloader"
   ]
  },
  {
   "cell_type": "markdown",
   "id": "04ae499f-7536-4168-9400-14adcd7046be",
   "metadata": {
    "id": "04ae499f-7536-4168-9400-14adcd7046be"
   },
   "source": [
    "**Пробный батч и пробный forward pass**"
   ]
  },
  {
   "cell_type": "code",
   "execution_count": 70,
   "id": "a8b394b1-91ca-4703-89c7-070f637ab223",
   "metadata": {
    "colab": {
     "base_uri": "https://localhost:8080/"
    },
    "id": "a8b394b1-91ca-4703-89c7-070f637ab223",
    "outputId": "3ee95613-2fc8-4535-be35-ac155bf9c379"
   },
   "outputs": [
    {
     "name": "stdout",
     "output_type": "stream",
     "text": [
      "past_time_features torch.Size([256, 85, 2]) torch.FloatTensor\n",
      "past_values torch.Size([256, 85]) torch.FloatTensor\n",
      "past_observed_mask torch.Size([256, 85]) torch.FloatTensor\n",
      "future_time_features torch.Size([256, 24, 2]) torch.FloatTensor\n",
      "static_categorical_features torch.Size([256, 1]) torch.LongTensor\n",
      "future_values torch.Size([256, 24]) torch.FloatTensor\n",
      "future_observed_mask torch.Size([256, 24]) torch.FloatTensor\n"
     ]
    }
   ],
   "source": [
    "batch = next(iter(train_dataloader))\n",
    "for k, v in batch.items():\n",
    "    print(k, v.shape, v.type())"
   ]
  },
  {
   "cell_type": "code",
   "execution_count": 71,
   "id": "7e34f501-2578-4799-810c-3ab0980b9f48",
   "metadata": {
    "id": "7e34f501-2578-4799-810c-3ab0980b9f48"
   },
   "outputs": [],
   "source": [
    "outputs = model(past_values=batch[\"past_values\"],\n",
    "                past_time_features=batch[\"past_time_features\"],\n",
    "                past_observed_mask=batch[\"past_observed_mask\"],\n",
    "                static_categorical_features=batch[\"static_categorical_features\"]\n",
    "                if config.num_static_categorical_features > 0\n",
    "                else None,\n",
    "                static_real_features=batch[\"static_real_features\"]\n",
    "                if config.num_static_real_features > 0\n",
    "                else None,\n",
    "                future_values=batch[\"future_values\"],\n",
    "                future_time_features=batch[\"future_time_features\"],\n",
    "                future_observed_mask=batch[\"future_observed_mask\"],\n",
    "                output_hidden_states=True)"
   ]
  },
  {
   "cell_type": "code",
   "execution_count": 72,
   "id": "8abfc2d2-f160-40fd-9eef-4d3c5bc26316",
   "metadata": {
    "colab": {
     "base_uri": "https://localhost:8080/"
    },
    "id": "8abfc2d2-f160-40fd-9eef-4d3c5bc26316",
    "outputId": "042ee582-37ef-4e20-d163-9f184844bd6d"
   },
   "outputs": [
    {
     "name": "stdout",
     "output_type": "stream",
     "text": [
      "Loss: 9.219844818115234\n"
     ]
    }
   ],
   "source": [
    "print(\"Loss:\", outputs.loss.item())"
   ]
  },
  {
   "cell_type": "markdown",
   "id": "51751e7f-f1b5-4542-8d00-8c2261f16ff6",
   "metadata": {
    "id": "51751e7f-f1b5-4542-8d00-8c2261f16ff6"
   },
   "source": [
    "**Обучаем модель**   \n",
    "\n",
    "Задействуем модули библиотеки Accelerate, которая в автоматическом режиме поместит модель, оптимизатор и даталоадер на нужный device."
   ]
  },
  {
   "cell_type": "code",
   "execution_count": 73,
   "id": "ab649326-5076-47be-9c15-7756d218e444",
   "metadata": {
    "colab": {
     "base_uri": "https://localhost:8080/"
    },
    "id": "ab649326-5076-47be-9c15-7756d218e444",
    "outputId": "39c968bd-c564-4279-aa70-6982d8066cd1"
   },
   "outputs": [
    {
     "name": "stdout",
     "output_type": "stream",
     "text": [
      "9.028557777404785\n",
      "7.663218021392822\n",
      "7.47986364364624\n",
      "7.181878566741943\n",
      "7.317785263061523\n",
      "6.865039825439453\n",
      "6.832464218139648\n",
      "7.266886234283447\n",
      "7.572513580322266\n",
      "6.722412109375\n",
      "7.005434036254883\n",
      "7.659908294677734\n",
      "6.952360153198242\n",
      "6.668398380279541\n",
      "7.56691312789917\n",
      "6.585981845855713\n",
      "7.229892730712891\n",
      "7.376275539398193\n",
      "6.741880893707275\n",
      "6.712100982666016\n",
      "7.643594264984131\n",
      "6.724790096282959\n",
      "7.543687343597412\n",
      "7.148512363433838\n",
      "7.239843845367432\n",
      "7.310890197753906\n",
      "6.6599907875061035\n",
      "6.961019039154053\n",
      "7.106327056884766\n",
      "7.516269683837891\n",
      "6.587063312530518\n",
      "7.07974100112915\n",
      "6.704017639160156\n",
      "7.393152713775635\n",
      "6.933888912200928\n",
      "6.920501708984375\n",
      "7.232472896575928\n",
      "7.362576961517334\n",
      "6.623968601226807\n",
      "7.123173236846924\n"
     ]
    }
   ],
   "source": [
    "accelerator = Accelerator()\n",
    "device = accelerator.device\n",
    "\n",
    "model.to(device)\n",
    "optimizer = AdamW(model.parameters(), lr=6e-4, betas=(0.9, 0.95), weight_decay=1e-1)\n",
    "\n",
    "model, optimizer, train_dataloader = accelerator.prepare(model,\n",
    "                                                        optimizer,\n",
    "                                                        train_dataloader)\n",
    "\n",
    "model.train()\n",
    "for epoch in range(40):\n",
    "    for idx, batch in enumerate(train_dataloader):\n",
    "        optimizer.zero_grad()\n",
    "        outputs = model(static_categorical_features=batch[\"static_categorical_features\"].to(device)\n",
    "                        if config.num_static_categorical_features > 0\n",
    "                        else None,\n",
    "                        static_real_features=batch[\"static_real_features\"].to(device)\n",
    "                        if config.num_static_real_features > 0\n",
    "                        else None,\n",
    "                        past_time_features=batch[\"past_time_features\"].to(device),\n",
    "                        past_values=batch[\"past_values\"].to(device),\n",
    "                        future_time_features=batch[\"future_time_features\"].to(device),\n",
    "                        future_values=batch[\"future_values\"].to(device),\n",
    "                        past_observed_mask=batch[\"past_observed_mask\"].to(device),\n",
    "                        future_observed_mask=batch[\"future_observed_mask\"].to(device))\n",
    "        loss = outputs.loss\n",
    "        accelerator.backward(loss)   # Обратное распространение ошибки \n",
    "        optimizer.step()             # Изменение весов\n",
    "\n",
    "        if idx % 100 == 0:\n",
    "            print(loss.item())"
   ]
  },
  {
   "cell_type": "markdown",
   "id": "036b109d-2fea-4e44-8e31-afe75027fe63",
   "metadata": {
    "id": "036b109d-2fea-4e44-8e31-afe75027fe63"
   },
   "source": [
    "**Inference**   \n",
    "На инференсе, как и в NLP, используем метод generate(), реализующий авторегрессионную генерацию.   \n",
    "\n",
    "Под капотом мы задействуем test instance sampler, который берет из рядов сэмплы последних окон контекста для передачи в энкодер. В декодер же поступают future_time_features (мы всегда знаем их заранее)."
   ]
  },
  {
   "cell_type": "code",
   "execution_count": 74,
   "id": "d871f089-0196-4e12-ae7e-5a4456accf87",
   "metadata": {
    "id": "d871f089-0196-4e12-ae7e-5a4456accf87"
   },
   "outputs": [],
   "source": [
    "model.eval()\n",
    "\n",
    "forecasts = []\n",
    "\n",
    "for batch in test_dataloader:\n",
    "    outputs = model.generate(\n",
    "        static_categorical_features=batch[\"static_categorical_features\"].to(device)\n",
    "        if config.num_static_categorical_features > 0\n",
    "        else None,\n",
    "        static_real_features=batch[\"static_real_features\"].to(device)\n",
    "        if config.num_static_real_features > 0\n",
    "        else None,\n",
    "        past_time_features=batch[\"past_time_features\"].to(device),\n",
    "        past_values=batch[\"past_values\"].to(device),\n",
    "        future_time_features=batch[\"future_time_features\"].to(device),\n",
    "        past_observed_mask=batch[\"past_observed_mask\"].to(device),\n",
    "    )\n",
    "    forecasts.append(outputs.sequences.cpu().numpy())"
   ]
  },
  {
   "cell_type": "markdown",
   "id": "wfjD9pyHNpF1",
   "metadata": {
    "id": "wfjD9pyHNpF1"
   },
   "source": [
    "На выходе модели получаем массивы размерности (batch_size, number of samples, prediction length).\n",
    "\n",
    "В процессе авторегрессионной генерации мы сэмплируем 100 различных значений для каждого из 24 месяцев прогнозного горизонта (для каждого из 64 объектов в батче):"
   ]
  },
  {
   "cell_type": "code",
   "execution_count": 75,
   "id": "830f398e-2ebd-429e-9202-b8494590a0f7",
   "metadata": {
    "colab": {
     "base_uri": "https://localhost:8080/"
    },
    "id": "830f398e-2ebd-429e-9202-b8494590a0f7",
    "outputId": "7668f05d-f52c-4e9c-cb1d-6d2fdffd8f33"
   },
   "outputs": [
    {
     "data": {
      "text/plain": [
       "(64, 100, 24)"
      ]
     },
     "execution_count": 75,
     "metadata": {},
     "output_type": "execute_result"
    }
   ],
   "source": [
    "forecasts[0].shape  # (64, 100, 24)"
   ]
  },
  {
   "cell_type": "code",
   "execution_count": 76,
   "id": "6b0270ef-897e-426f-9fc5-e5c67520a1cc",
   "metadata": {
    "colab": {
     "base_uri": "https://localhost:8080/"
    },
    "id": "6b0270ef-897e-426f-9fc5-e5c67520a1cc",
    "outputId": "45b3be8e-3a1b-4b2c-8d5f-4892187d6134"
   },
   "outputs": [
    {
     "name": "stdout",
     "output_type": "stream",
     "text": [
      "(366, 100, 24)\n"
     ]
    }
   ],
   "source": [
    "# Настэкав их по вертикали, мы получим прогноз для всех рядов в тестовом датасете\n",
    "forecasts = np.vstack(forecasts)\n",
    "print(forecasts.shape)  # (366, 100, 24)"
   ]
  },
  {
   "cell_type": "markdown",
   "id": "Hy5Tk5qEODc3",
   "metadata": {
    "id": "Hy5Tk5qEODc3"
   },
   "source": [
    "Для оценки используем библиотеку Evaluate, в которой реализованы метрики MASE, MAPE.   \n",
    "\n"
   ]
  },
  {
   "cell_type": "code",
   "execution_count": 77,
   "id": "a4983ee9-0b13-4913-bf99-d15b5421d028",
   "metadata": {
    "id": "a4983ee9-0b13-4913-bf99-d15b5421d028"
   },
   "outputs": [],
   "source": [
    "mase_metric = load(\"evaluate-metric/mase\")\n",
    "smape_metric = load(\"evaluate-metric/smape\")\n",
    "\n",
    "forecast_median = np.median(forecasts, 1)  # берем медианное значение сэмплов\n",
    "\n",
    "mase_metrics = []\n",
    "smape_metrics = []\n",
    "for item_id, ts in enumerate(test_dataset):\n",
    "    training_data = ts[\"target\"][:-prediction_length]\n",
    "    ground_truth = ts[\"target\"][-prediction_length:]\n",
    "    mase = mase_metric.compute(predictions=forecast_median[item_id],\n",
    "                                references=np.array(ground_truth),\n",
    "                                training=np.array(training_data),\n",
    "                                periodicity=get_seasonality(freq))\n",
    "    mase_metrics.append(mase[\"mase\"])\n",
    "\n",
    "    smape = smape_metric.compute(predictions=forecast_median[item_id],\n",
    "                                references=np.array(ground_truth))\n",
    "    smape_metrics.append(smape[\"smape\"])"
   ]
  },
  {
   "cell_type": "code",
   "execution_count": 78,
   "id": "ee9428d4-7d89-4399-8c1a-0e690357e102",
   "metadata": {
    "colab": {
     "base_uri": "https://localhost:8080/"
    },
    "id": "ee9428d4-7d89-4399-8c1a-0e690357e102",
    "outputId": "7651afea-7b26-4972-a9d0-174513ca285f"
   },
   "outputs": [
    {
     "name": "stdout",
     "output_type": "stream",
     "text": [
      "MASE: 1.7638408530725842\n"
     ]
    }
   ],
   "source": [
    "print(f\"MASE: {np.mean(mase_metrics)}\")"
   ]
  },
  {
   "cell_type": "code",
   "execution_count": 79,
   "id": "d3f9dc25-498d-41ae-81c7-610f1a85e86d",
   "metadata": {
    "colab": {
     "base_uri": "https://localhost:8080/"
    },
    "id": "d3f9dc25-498d-41ae-81c7-610f1a85e86d",
    "outputId": "04e68fda-104c-4f25-de3a-59c4cf82bc36"
   },
   "outputs": [
    {
     "name": "stdout",
     "output_type": "stream",
     "text": [
      "sMAPE: 0.1934052417913542\n"
     ]
    }
   ],
   "source": [
    "print(f\"sMAPE: {np.mean(smape_metrics)}\")"
   ]
  },
  {
   "cell_type": "code",
   "execution_count": 80,
   "id": "7d9afa5f-bf43-4932-b60c-7723f4dd87de",
   "metadata": {
    "id": "7d9afa5f-bf43-4932-b60c-7723f4dd87de"
   },
   "outputs": [],
   "source": [
    "def plot(ts_index):\n",
    "    fig, ax = plt.subplots()\n",
    "\n",
    "    index = pd.period_range(start=test_dataset[ts_index][FieldName.START],\n",
    "                            periods=len(test_dataset[ts_index][FieldName.TARGET]),\n",
    "                            freq=freq).to_timestamp()\n",
    "\n",
    "    ax.xaxis.set_major_locator(mdates.MonthLocator(bymonth=(1, 7)))\n",
    "    ax.xaxis.set_minor_locator(mdates.MonthLocator())\n",
    "\n",
    "    ax.plot(index[-2 * prediction_length :],\n",
    "            test_dataset[ts_index][\"target\"][-2 * prediction_length :],\n",
    "            label=\"actual\")\n",
    "\n",
    "    plt.plot(index[-prediction_length:],\n",
    "            np.median(forecasts[ts_index], axis=0),\n",
    "            label=\"median\")\n",
    "\n",
    "    plt.fill_between(index[-prediction_length:],\n",
    "                    forecasts[ts_index].mean(0) - forecasts[ts_index].std(axis=0),\n",
    "                    forecasts[ts_index].mean(0) + forecasts[ts_index].std(axis=0),\n",
    "                    alpha=0.3,\n",
    "                    interpolate=True,\n",
    "                    label=\"+/- 1-std\")\n",
    "    plt.legend()\n",
    "    plt.show()"
   ]
  },
  {
   "cell_type": "code",
   "execution_count": 81,
   "id": "7caae74d-e355-41c8-9821-3dd0aaa6a9cb",
   "metadata": {
    "colab": {
     "base_uri": "https://localhost:8080/",
     "height": 430
    },
    "id": "7caae74d-e355-41c8-9821-3dd0aaa6a9cb",
    "outputId": "b4b9c641-ad03-48db-d9fa-c2f4d5259dd6"
   },
   "outputs": [
    {
     "data": {
      "image/png": "[encoded data removed]",
      "text/plain": [
       "<Figure size 640x480 with 1 Axes>"
      ]
     },
     "metadata": {},
     "output_type": "display_data"
    }
   ],
   "source": [
    "plot(334)"
   ]
  },
  {
   "cell_type": "code",
   "execution_count": null,
   "id": "55f48e7d-12d4-46b3-9413-e4bd81f5174a",
   "metadata": {
    "id": "55f48e7d-12d4-46b3-9413-e4bd81f5174a"
   },
   "outputs": [],
   "source": []
  },
  {
   "cell_type": "code",
   "execution_count": null,
   "id": "5452f394-2f53-4455-97fa-f21ea27f389d",
   "metadata": {
    "id": "5452f394-2f53-4455-97fa-f21ea27f389d"
   },
   "outputs": [],
   "source": []
  }
 ],
 "metadata": {
  "accelerator": "GPU",
  "colab": {
   "gpuType": "T4",
   "provenance": []
  },
  "kernelspec": {
   "display_name": "Python 3 (ipykernel)",
   "language": "python",
   "name": "python3"
  },
  "language_info": {
   "codemirror_mode": {
    "name": "ipython",
    "version": 3
   },
   "file_extension": ".py",
   "mimetype": "text/x-python",
   "name": "python",
   "nbconvert_exporter": "python",
   "pygments_lexer": "ipython3",
   "version": "3.12.7"
  }
 },
 "nbformat": 4,
 "nbformat_minor": 5
}
